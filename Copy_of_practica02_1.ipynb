{
  "nbformat": 4,
  "nbformat_minor": 0,
  "metadata": {
    "kernelspec": {
      "display_name": "Python 3",
      "language": "python",
      "name": "python3"
    },
    "language_info": {
      "codemirror_mode": {
        "name": "ipython",
        "version": 3
      },
      "file_extension": ".py",
      "mimetype": "text/x-python",
      "name": "python",
      "nbconvert_exporter": "python",
      "pygments_lexer": "ipython3",
      "version": "3.7.4"
    },
    "colab": {
      "name": "Copy of practica02_1.ipynb",
      "provenance": [],
      "include_colab_link": true
    }
  },
  "cells": [
    {
      "cell_type": "markdown",
      "metadata": {
        "id": "view-in-github",
        "colab_type": "text"
      },
      "source": [
        "<a href=\"https://colab.research.google.com/github/Aldogs/Genomica_Computacional/blob/master/Copy_of_practica02_1.ipynb\" target=\"_parent\"><img src=\"https://colab.research.google.com/assets/colab-badge.svg\" alt=\"Open In Colab\"/></a>"
      ]
    },
    {
      "cell_type": "markdown",
      "metadata": {
        "id": "qOz3U1I_Rz34"
      },
      "source": [
        "# Genómica Computacional\n",
        "## Práctica 02 - Herramientas bioinformáticas (Python)"
      ]
    },
    {
      "cell_type": "markdown",
      "metadata": {
        "id": "EvCPi3VORz38"
      },
      "source": [
        "1) Escribir un programa que me permita aplicar el 10% de descuento si la compra total es mayor a $100."
      ]
    },
    {
      "cell_type": "code",
      "metadata": {
        "id": "DC8GBvliR4WH",
        "outputId": "37dc6812-3cbb-4ce9-a943-df469881e924",
        "colab": {
          "base_uri": "https://localhost:8080/"
        }
      },
      "source": [
        "cant = int(input(\"Total de compra: \"))\n",
        "\n",
        "if cant > 100:\n",
        "  cant = cant*0.9\n",
        "print (\"Cantidad a pagar:\",cant)  "
      ],
      "execution_count": null,
      "outputs": [
        {
          "output_type": "stream",
          "text": [
            "Total de compra: 101\n",
            "Cantidad a pagar: 90.9\n"
          ],
          "name": "stdout"
        }
      ]
    },
    {
      "cell_type": "markdown",
      "metadata": {
        "id": "gqzhiAZVRz39"
      },
      "source": [
        "2) Sabiendo que la fórmula para obtener el área de un triángulo es a = (b x h) / 2, donde b es la longitud de la base del triángulo, y h es su altura. Escribir un programa que permita realizar el cálculo del área de un triángulo. Si el área contiene valores decimales, imprimir el resultado con dos dígitos. "
      ]
    },
    {
      "cell_type": "code",
      "metadata": {
        "id": "YnOro45WU0o-",
        "outputId": "5beb20ac-2bd4-48a4-99ba-cb053b926bc9",
        "colab": {
          "base_uri": "https://localhost:8080/"
        }
      },
      "source": [
        "b = float(input(\"Escribe la longitud de la base del triangulo: \"))\n",
        "h = float(input(\"Escribe la altura del triangulo: \"))\n",
        "a = (b * h) / 2\n",
        "print(\"El area del triángulo es: %.2f\" % a)"
      ],
      "execution_count": null,
      "outputs": [
        {
          "output_type": "stream",
          "text": [
            "Escribe la longitud de la base del triangulo: 7\n",
            "Escribe la altura del triangulo: 5\n",
            "El area del triángulo es: 17.50\n"
          ],
          "name": "stdout"
        }
      ]
    },
    {
      "cell_type": "markdown",
      "metadata": {
        "id": "_o2fCduGRz4A"
      },
      "source": [
        "3) La fórmula para el Índice de Masa Corportal es *IMC = kg/m2* donde kg es el peso de la persona en kilogramos y m2 es la altura en metros al cuadrado. Realizar un programa que calcula el IMC cuando se le provee el peso y la altura. "
      ]
    },
    {
      "cell_type": "code",
      "metadata": {
        "id": "l1aAkUpIWE93",
        "outputId": "eda0f778-71ce-43d4-e8fa-0d3e1d0d2d22",
        "colab": {
          "base_uri": "https://localhost:8080/"
        }
      },
      "source": [
        "kg = float(input(\"Escribe tu peso en kilogramos: \"))\n",
        "m = float(input(\"Escribe tu altura en metros: \"))\n",
        "\n",
        "IMC = kg/(m*m)\n",
        "print (\"Tu IMC es: %.2f\" % IMC)  "
      ],
      "execution_count": null,
      "outputs": [
        {
          "output_type": "stream",
          "text": [
            "Escribe tu peso en kilogramos: 67.3\n",
            "Escribe tu altura en metros: 1.63\n",
            "Tu IMC es: 25.33\n"
          ],
          "name": "stdout"
        }
      ]
    }
  ]
}